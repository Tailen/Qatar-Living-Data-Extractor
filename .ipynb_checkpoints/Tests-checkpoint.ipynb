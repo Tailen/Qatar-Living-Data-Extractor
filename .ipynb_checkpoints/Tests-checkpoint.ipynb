{
 "cells": [
  {
   "cell_type": "code",
   "execution_count": 1,
   "metadata": {},
   "outputs": [],
   "source": [
    "import requests\n",
    "from bs4 import BeautifulSoup"
   ]
  },
  {
   "cell_type": "code",
   "execution_count": 2,
   "metadata": {},
   "outputs": [
    {
     "name": "stdout",
     "output_type": "stream",
     "text": [
      "Downloaded page 0\n"
     ]
    }
   ],
   "source": [
    "pageURL = ''\n",
    "# for i in range(1):\n",
    "i = 0\n",
    "\n",
    "# Get URL of page i\n",
    "if i == 0:\n",
    "    pageURL = 'https://www.qatarliving.com/classifieds/services'\n",
    "else:\n",
    "    pageURL = 'https://www.qatarliving.com/classifieds/services?page={}'.format(i)\n",
    "# download page\n",
    "try:\n",
    "    htmlFile = requests.get(pageURL)\n",
    "    print('Downloaded page {}'.format(i))\n",
    "except:\n",
    "    print('Failed to download page {}'.format(i))\n",
    "\n",
    "soup = BeautifulSoup(htmlFile.content, 'html.parser')\n",
    "# print(soup.prettify())"
   ]
  },
  {
   "cell_type": "code",
   "execution_count": 22,
   "metadata": {},
   "outputs": [],
   "source": [
    "cards = soup.find_all(class_='b-card b-card-mod-h item card-sticky')"
   ]
  },
  {
   "cell_type": "code",
   "execution_count": 20,
   "metadata": {},
   "outputs": [
    {
     "name": "stdout",
     "output_type": "stream",
     "text": [
      "<span class=\"b-card b-card-mod-h item card-sticky\" data-entity-bundle=\"classified\" data-entity-id=\"42609196\" data-entity-type=\"node\" data-entity-url=\"https://www.qatarliving.com/services/labor-moving/best-price-movingshiftingcarepentarymaintanence-call-55218748/42609196\" data-event-source=\"\" data-event-type=\"impression\" data-page-url=\"https://www.qatarliving.com/services/labor-moving/best-price-movingshiftingcarepentarymaintanence-call-55218748/42609196\" data-uid=\"7146846\" href=\"/services/labor-moving/best-price-movingshiftingcarepentarymaintanence-call-55218748/42609196\">\n",
      "<div class=\"b-card--el-header\">\n",
      "<a href=\"/services/labor-moving/best-price-movingshiftingcarepentarymaintanence-call-55218748/42609196\">\n",
      "<img alt=\"Best Price Moving,Shifting,carepentary,Maintanence Call. 55218748\" class=\"b-card--el-view img-responsive\" src=\"https://files.qatarliving.com/styles/555x415/s3/2018/10/14/IMG_20180925_191556.jpg?efrQ809stYi5qHHZ3VLxE83elF9XlSxb&amp;itok=fZtpPGGs\"/></a>\n",
      "<span class=\"b-card--el-featured-label\">Promoted</span>\n",
      "<div class=\"b-card--el-price-conditions \">\n",
      "<p class=\"b-card--el-deposit-val\">0</p>\n",
      "<p class=\"b-card--el-deposit-time\">QAR</p>\n",
      "</div>\n",
      "</div>\n",
      "<div class=\"b-card--el-details\">\n",
      "<p class=\"b-ad-excerpt b-par-mod-clear b-line-mod-thin--mix-item\">Labor &amp; Moving, Doha</p>\n",
      "<a href=\"/services/labor-moving/best-price-movingshiftingcarepentarymaintanence-call-55218748/42609196\"><p class=\"b-card--el-description\">Best Price Moving,Shifting,carepentary,Maintanence Call. 55218748</p></a>\n",
      "<div class=\"b-card--el-flags\">\n",
      "<p class=\"b-card--el-pinhead-flag\"></p>\n",
      "</div>\n",
      "<div class=\"b-card--el-agency\">\n",
      "<a href=\"/user/nayem-movers\"><img alt=\"\" class=\"b-card--el-agency-logo\" height=\"80\" src=\"https://files.qatarliving.com/styles/avatar_small/s3/users/2018/09/21/1537491400060.png?OxPUTL65Dr53vMgoMAtmYONY595iLXaJ&amp;itok=APeGZO51\" width=\"80\"/></a>\n",
      "<time class=\"timeago b-card--el-agency-time\" datetime=\"2018-10-14T12:39:29+0300\" title=\"2018-10-14T12:39:29+0300\"></time>\n",
      "<p class=\"b-card--el-agency-title\">by </p><a class=\"b-card--el-agency-title\" href=\"/user/nayem-movers\">Nayem movers</a>\n",
      "</div>\n",
      "</div>\n",
      "</span>\n"
     ]
    }
   ],
   "source": [
    "print(cards[19])"
   ]
  },
  {
   "cell_type": "code",
   "execution_count": 23,
   "metadata": {},
   "outputs": [],
   "source": [
    "card = cards[0]"
   ]
  },
  {
   "cell_type": "code",
   "execution_count": 25,
   "metadata": {},
   "outputs": [
    {
     "name": "stdout",
     "output_type": "stream",
     "text": [
      "['\\n', <div class=\"b-card--el-header\">\n",
      "<a href=\"/services/household-services/furniture-moving-shiftingcall-33780082-0\">\n",
      "<img alt=\"Low price moving,shifting,packing,carpenter,pickup,painting service.call 66961075\" class=\"b-card--el-view img-responsive\" src=\"https://files.qatarliving.com/styles/555x415/s3/2018/02/22/PicsArt_09-21-11.31.31.jpg?KfB8TrlPE37pjIEcjjYqiRrRyvilYjbv&amp;itok=Gdh_u8PA\"/></a>\n",
      "<span class=\"b-card--el-featured-label\">Promoted</span>\n",
      "<div class=\"b-card--el-price-conditions \">\n",
      "<p class=\"b-card--el-deposit-val\">0</p>\n",
      "<p class=\"b-card--el-deposit-time\">QAR</p>\n",
      "</div>\n",
      "</div>, '\\n', <div class=\"b-card--el-details\">\n",
      "<p class=\"b-ad-excerpt b-par-mod-clear b-line-mod-thin--mix-item\">Labor &amp; Moving, Al Sadd</p>\n",
      "<a href=\"/services/household-services/furniture-moving-shiftingcall-33780082-0\"><p class=\"b-card--el-description\">Low price moving,shifting,packing,carpenter,pickup,painting service.call 66961075</p></a>\n",
      "<div class=\"b-card--el-flags\">\n",
      "<p class=\"b-card--el-pinhead-flag\"></p>\n",
      "</div>\n",
      "<div class=\"b-card--el-agency\">\n",
      "<a href=\"/user/rakibmovers\"><img alt=\"\" class=\"b-card--el-agency-logo\" height=\"80\" src=\"https://files.qatarliving.com/styles/avatar_small/s3/users/2017/03/26/1489987693875.jpg?itok=wrZdsC8s\" width=\"80\"/></a>\n",
      "<time class=\"timeago b-card--el-agency-time\" datetime=\"2018-10-14T12:58:24+0300\" title=\"2018-10-14T12:58:24+0300\"></time>\n",
      "<p class=\"b-card--el-agency-title\">by </p><a class=\"b-card--el-agency-title\" href=\"/user/rakibmovers\">rakibmovers</a>\n",
      "</div>\n",
      "</div>, '\\n']\n"
     ]
    }
   ],
   "source": [
    "print(list(card.children))"
   ]
  },
  {
   "cell_type": "code",
   "execution_count": 27,
   "metadata": {},
   "outputs": [],
   "source": [
    "details = list(card.children)"
   ]
  },
  {
   "cell_type": "code",
   "execution_count": 47,
   "metadata": {},
   "outputs": [],
   "source": [
    "categories = soup.find_all(class_='b-ad-excerpt b-par-mod-clear b-line-mod-thin--mix-item') # in format of 'Category, Location'"
   ]
  },
  {
   "cell_type": "code",
   "execution_count": 48,
   "metadata": {},
   "outputs": [
    {
     "name": "stdout",
     "output_type": "stream",
     "text": [
      "[<p class=\"b-ad-excerpt b-par-mod-clear b-line-mod-thin--mix-item\">Labor &amp; Moving, Al Sadd</p>, <p class=\"b-ad-excerpt b-par-mod-clear b-line-mod-thin--mix-item\">Household Services, Al Sadd</p>, <p class=\"b-ad-excerpt b-par-mod-clear b-line-mod-thin--mix-item\">Labor &amp; Moving, Doha</p>, <p class=\"b-ad-excerpt b-par-mod-clear b-line-mod-thin--mix-item\">Labor &amp; Moving, Doha</p>, <p class=\"b-ad-excerpt b-par-mod-clear b-line-mod-thin--mix-item\">Labor &amp; Moving, Al Mansoura / Fereej Bin Dirham</p>, <p class=\"b-ad-excerpt b-par-mod-clear b-line-mod-thin--mix-item\">Labor &amp; Moving, Doha</p>, <p class=\"b-ad-excerpt b-par-mod-clear b-line-mod-thin--mix-item\">Labor &amp; Moving, Doha</p>, <p class=\"b-ad-excerpt b-par-mod-clear b-line-mod-thin--mix-item\">Satellite Dish Installation, Doha</p>, <p class=\"b-ad-excerpt b-par-mod-clear b-line-mod-thin--mix-item\">Labor &amp; Moving, Doha</p>, <p class=\"b-ad-excerpt b-par-mod-clear b-line-mod-thin--mix-item\">Labor &amp; Moving, Doha</p>, <p class=\"b-ad-excerpt b-par-mod-clear b-line-mod-thin--mix-item\">Labor &amp; Moving, Doha</p>, <p class=\"b-ad-excerpt b-par-mod-clear b-line-mod-thin--mix-item\">Labor &amp; Moving, Doha</p>, <p class=\"b-ad-excerpt b-par-mod-clear b-line-mod-thin--mix-item\">Labor &amp; Moving, Doha</p>, <p class=\"b-ad-excerpt b-par-mod-clear b-line-mod-thin--mix-item\">Household Services, Doha</p>, <p class=\"b-ad-excerpt b-par-mod-clear b-line-mod-thin--mix-item\">Labor &amp; Moving, Doha</p>, <p class=\"b-ad-excerpt b-par-mod-clear b-line-mod-thin--mix-item\">Satellite Dish Installation, Al Hilal</p>, <p class=\"b-ad-excerpt b-par-mod-clear b-line-mod-thin--mix-item\">Labor &amp; Moving, Doha</p>, <p class=\"b-ad-excerpt b-par-mod-clear b-line-mod-thin--mix-item\">Labor &amp; Moving, Doha</p>, <p class=\"b-ad-excerpt b-par-mod-clear b-line-mod-thin--mix-item\">Labor &amp; Moving, Doha</p>, <p class=\"b-ad-excerpt b-par-mod-clear b-line-mod-thin--mix-item\">Labor &amp; Moving, Doha</p>]\n"
     ]
    }
   ],
   "source": [
    "print(categories)"
   ]
  },
  {
   "cell_type": "code",
   "execution_count": 49,
   "metadata": {},
   "outputs": [
    {
     "name": "stdout",
     "output_type": "stream",
     "text": [
      "Labor & Moving, Al Sadd\n",
      "Household Services, Al Sadd\n",
      "Labor & Moving, Doha\n",
      "Labor & Moving, Doha\n",
      "Labor & Moving, Al Mansoura / Fereej Bin Dirham\n",
      "Labor & Moving, Doha\n",
      "Labor & Moving, Doha\n",
      "Satellite Dish Installation, Doha\n",
      "Labor & Moving, Doha\n",
      "Labor & Moving, Doha\n",
      "Labor & Moving, Doha\n",
      "Labor & Moving, Doha\n",
      "Labor & Moving, Doha\n",
      "Household Services, Doha\n",
      "Labor & Moving, Doha\n",
      "Satellite Dish Installation, Al Hilal\n",
      "Labor & Moving, Doha\n",
      "Labor & Moving, Doha\n",
      "Labor & Moving, Doha\n",
      "Labor & Moving, Doha\n"
     ]
    }
   ],
   "source": [
    "for category in categories:\n",
    "    print(category.get_text())"
   ]
  },
  {
   "cell_type": "code",
   "execution_count": 52,
   "metadata": {},
   "outputs": [
    {
     "name": "stdout",
     "output_type": "stream",
     "text": [
      "['Labor & Moving, Al Sadd']\n"
     ]
    }
   ],
   "source": [
    "print(list(categories[0].children))"
   ]
  },
  {
   "cell_type": "code",
   "execution_count": 77,
   "metadata": {},
   "outputs": [
    {
     "name": "stdout",
     "output_type": "stream",
     "text": [
      "20\n",
      "<div class=\"b-card--el-details\">\n",
      "<p class=\"b-ad-excerpt b-par-mod-clear b-line-mod-thin--mix-item\">Labor &amp; Moving, Al Sadd</p>\n",
      "<a href=\"/services/household-services/furniture-moving-shiftingcall-33780082-0\"><p class=\"b-card--el-description\">Low price moving,shifting,packing,carpenter,pickup,painting service.call 66961075</p></a>\n",
      "<div class=\"b-card--el-flags\">\n",
      "<p class=\"b-card--el-pinhead-flag\"></p>\n",
      "</div>\n",
      "<div class=\"b-card--el-agency\">\n",
      "<a href=\"/user/rakibmovers\"><img alt=\"\" class=\"b-card--el-agency-logo\" height=\"80\" src=\"https://files.qatarliving.com/styles/avatar_small/s3/users/2017/03/26/1489987693875.jpg?itok=wrZdsC8s\" width=\"80\"/></a>\n",
      "<time class=\"timeago b-card--el-agency-time\" datetime=\"2018-10-14T12:58:24+0300\" title=\"2018-10-14T12:58:24+0300\"></time>\n",
      "<p class=\"b-card--el-agency-title\">by </p><a class=\"b-card--el-agency-title\" href=\"/user/rakibmovers\">rakibmovers</a>\n",
      "</div>\n",
      "</div> \n",
      "\n",
      "<div class=\"b-card--el-details\">\n",
      "<p class=\"b-ad-excerpt b-par-mod-clear b-line-mod-thin--mix-item\">Household Services, Al Sadd</p>\n",
      "<a href=\"/services/household-services/house-plumbingacelectrical-civil-painting\"><p class=\"b-card--el-description\">House/Villa, Plumbing, AC, Electrical, Civil, &amp; Painting &amp; EXCLUSIVE RO SYSTEM </p></a>\n",
      "<div class=\"b-card--el-flags\">\n",
      "<p class=\"b-card--el-pinhead-flag\"></p>\n",
      "</div>\n",
      "<div class=\"b-card--el-agency\">\n",
      "<a href=\"/user/buildtech\"><img alt=\"\" class=\"b-card--el-agency-logo\" height=\"80\" src=\"https://files.qatarliving.com/styles/avatar_small/s3/users/2018/01/31/Logo.jpg?b4cJ28BLcR.vndhalXM4jF1Ue6SUXIgx&amp;itok=gTKva7vr\" width=\"80\"/></a>\n",
      "<time class=\"timeago b-card--el-agency-time\" datetime=\"2018-10-14T12:57:30+0300\" title=\"2018-10-14T12:57:30+0300\"></time>\n",
      "<p class=\"b-card--el-agency-title\">by </p><a class=\"b-card--el-agency-title\" href=\"/user/buildtech\">Buildtech</a>\n",
      "</div>\n",
      "</div> \n",
      "\n",
      "<div class=\"b-card--el-details\">\n",
      "<p class=\"b-ad-excerpt b-par-mod-clear b-line-mod-thin--mix-item\">Labor &amp; Moving, Doha</p>\n",
      "<a href=\"/services/labor-moving/call-77012478-good-price-movingshifting-pickup-carpentry-service\"><p class=\"b-card--el-description\">Call 77012478 good price for moving,shifting pickup carpentry service.</p></a>\n",
      "<div class=\"b-card--el-flags\">\n",
      "<p class=\"b-card--el-pinhead-flag\"></p>\n",
      "</div>\n",
      "<div class=\"b-card--el-agency\">\n",
      "<time class=\"timeago b-card--el-agency-time\" datetime=\"2018-10-14T12:53:48+0300\" title=\"2018-10-14T12:53:48+0300\"></time>\n",
      "<p class=\"b-card--el-agency-title\">by </p><a class=\"b-card--el-agency-title\" href=\"/user/rajon-hossain\">Rajon hossain</a>\n",
      "</div>\n",
      "</div> \n",
      "\n",
      "<div class=\"b-card--el-details\">\n",
      "<p class=\"b-ad-excerpt b-par-mod-clear b-line-mod-thin--mix-item\">Labor &amp; Moving, Doha</p>\n",
      "<a href=\"/services/labor-moving/we-do-less-price-house-shifting-moving-carpenter-pickup-transport-services-0\"><p class=\"b-card--el-description\">We do less price:: house shifting, moving, carpenter picku &amp; transport services—-5528757</p></a>\n",
      "<div class=\"b-card--el-flags\">\n",
      "<p class=\"b-card--el-pinhead-flag\"></p>\n",
      "</div>\n",
      "<div class=\"b-card--el-agency\">\n",
      "<a href=\"/user/expert-movers\"><img alt=\"\" class=\"b-card--el-agency-logo\" height=\"80\" src=\"https://files.qatarliving.com/styles/avatar_small/s3/users/2016/04/17/download (1) - Copy.jpg?itok=uS73XBY6\" width=\"80\"/></a>\n",
      "<time class=\"timeago b-card--el-agency-time\" datetime=\"2018-10-14T12:53:23+0300\" title=\"2018-10-14T12:53:23+0300\"></time>\n",
      "<p class=\"b-card--el-agency-title\">by </p><a class=\"b-card--el-agency-title\" href=\"/user/expert-movers\">Expert movers</a>\n",
      "</div>\n",
      "</div> \n",
      "\n",
      "<div class=\"b-card--el-details\">\n",
      "<p class=\"b-ad-excerpt b-par-mod-clear b-line-mod-thin--mix-item\">Labor &amp; Moving, Al Mansoura / Fereej Bin Dirham</p>\n",
      "<a href=\"/services/labor-moving/moving-transfort-service-call-whatsapp55770720\"><p class=\"b-card--el-description\">moving and transfort service. call and whatsapp,,55770720.</p></a>\n",
      "<div class=\"b-card--el-flags\">\n",
      "<p class=\"b-card--el-pinhead-flag\"></p>\n",
      "</div>\n",
      "<div class=\"b-card--el-agency\">\n",
      "<a href=\"/user/jakir-hossen\"><img alt=\"\" class=\"b-card--el-agency-logo\" height=\"80\" src=\"https://files.qatarliving.com/styles/avatar_small/s3/users/2018/09/05/1536110685616.png?Irmnr0WQBJuUUocHdteOetxr34kw4xW8&amp;itok=gF6qfmwz\" width=\"80\"/></a>\n",
      "<time class=\"timeago b-card--el-agency-time\" datetime=\"2018-10-14T12:52:58+0300\" title=\"2018-10-14T12:52:58+0300\"></time>\n",
      "<p class=\"b-card--el-agency-title\">by </p><a class=\"b-card--el-agency-title\" href=\"/user/jakir-hossen\">jakir hossen</a>\n",
      "</div>\n",
      "</div> \n",
      "\n",
      "<div class=\"b-card--el-details\">\n",
      "<p class=\"b-ad-excerpt b-par-mod-clear b-line-mod-thin--mix-item\">Labor &amp; Moving, Doha</p>\n",
      "<a href=\"/services/labor-moving/best-pricesmoving-shifting-packing-carpentry-transport-services70158580\"><p class=\"b-card--el-description\">Best prices-Moving shifting packing carpentry trangsport&amp;ac fixing services-77018946</p></a>\n",
      "<div class=\"b-card--el-flags\">\n",
      "<p class=\"b-card--el-pinhead-flag\"></p>\n",
      "</div>\n",
      "<div class=\"b-card--el-agency\">\n",
      "<time class=\"timeago b-card--el-agency-time\" datetime=\"2018-10-14T12:52:55+0300\" title=\"2018-10-14T12:52:55+0300\"></time>\n",
      "<p class=\"b-card--el-agency-title\">by </p><a class=\"b-card--el-agency-title\" href=\"/user/nzuddin-services\">nzuddin services</a>\n",
      "</div>\n",
      "</div> \n",
      "\n",
      "<div class=\"b-card--el-details\">\n",
      "<p class=\"b-ad-excerpt b-par-mod-clear b-line-mod-thin--mix-item\">Labor &amp; Moving, Doha</p>\n",
      "<a href=\"/services/labor-moving/low-price-call-55422778-movingshifting-carpenter-ac-servicing\"><p class=\"b-card--el-description\">Good price, call:-55422778... Moving,Shifting, Carpenter, A/C servicing </p></a>\n",
      "<div class=\"b-card--el-flags\">\n",
      "<p class=\"b-card--el-pinhead-flag\"></p>\n",
      "</div>\n",
      "<div class=\"b-card--el-agency\">\n",
      "<time class=\"timeago b-card--el-agency-time\" datetime=\"2018-10-14T12:52:49+0300\" title=\"2018-10-14T12:52:49+0300\"></time>\n",
      "<p class=\"b-card--el-agency-title\">by </p><a class=\"b-card--el-agency-title\" href=\"/user/w-movers\">W movers</a>\n",
      "</div>\n",
      "</div> \n",
      "\n",
      "<div class=\"b-card--el-details\">\n",
      "<p class=\"b-ad-excerpt b-par-mod-clear b-line-mod-thin--mix-item\">Satellite Dish Installation, Doha</p>\n",
      "<a href=\"/items/electronics/satellite-electribal-call-me-77513802\"><p class=\"b-card--el-description\">ALL SATELLITE DISH RECEIVER SALE AND INSTALLATION PLEASE CALL ME 77513802</p></a>\n",
      "<div class=\"b-card--el-flags\">\n",
      "<p class=\"b-card--el-pinhead-flag\"></p>\n",
      "</div>\n",
      "<div class=\"b-card--el-agency\">\n",
      "<time class=\"timeago b-card--el-agency-time\" datetime=\"2018-10-14T12:52:29+0300\" title=\"2018-10-14T12:52:29+0300\"></time>\n",
      "<p class=\"b-card--el-agency-title\">by </p><a class=\"b-card--el-agency-title\" href=\"/user/luk01\">LUK01</a>\n",
      "</div>\n",
      "</div> \n",
      "\n",
      "<div class=\"b-card--el-details\">\n",
      "<p class=\"b-ad-excerpt b-par-mod-clear b-line-mod-thin--mix-item\">Labor &amp; Moving, Doha</p>\n",
      "<a href=\"/services/labor-moving/moving-shifting-please-call55398128\"><p class=\"b-card--el-description\">Low price moving,shifting please call 55398128</p></a>\n",
      "<div class=\"b-card--el-flags\">\n",
      "<p class=\"b-card--el-pinhead-flag\"></p>\n",
      "</div>\n",
      "<div class=\"b-card--el-agency\">\n",
      "<time class=\"timeago b-card--el-agency-time\" datetime=\"2018-10-14T12:52:02+0300\" title=\"2018-10-14T12:52:02+0300\"></time>\n",
      "<p class=\"b-card--el-agency-title\">by </p><a class=\"b-card--el-agency-title\" href=\"/user/monsur-124\">monsur 124</a>\n",
      "</div>\n",
      "</div> \n",
      "\n",
      "<div class=\"b-card--el-details\">\n",
      "<p class=\"b-ad-excerpt b-par-mod-clear b-line-mod-thin--mix-item\">Labor &amp; Moving, Doha</p>\n",
      "<a href=\"/services/labor-moving/advert/any-work-0\"><p class=\"b-card--el-description\">Jakaria Movers &amp; packers. Call : 311 67 648</p></a>\n",
      "<div class=\"b-card--el-flags\">\n",
      "<p class=\"b-card--el-pinhead-flag\"></p>\n",
      "</div>\n",
      "<div class=\"b-card--el-agency\">\n",
      "<a href=\"/user/golam-jakaria\"><img alt=\"\" class=\"b-card--el-agency-logo\" height=\"80\" src=\"https://files.qatarliving.com/styles/avatar_small/s3/users/2017/03/03/1488546882328.png?itok=oN2_4G-5\" width=\"80\"/></a>\n",
      "<time class=\"timeago b-card--el-agency-time\" datetime=\"2018-10-14T12:51:51+0300\" title=\"2018-10-14T12:51:51+0300\"></time>\n",
      "<p class=\"b-card--el-agency-title\">by </p><a class=\"b-card--el-agency-title\" href=\"/user/golam-jakaria\">golam jakaria</a>\n",
      "</div>\n",
      "</div> \n",
      "\n",
      "<div class=\"b-card--el-details\">\n",
      "<p class=\"b-ad-excerpt b-par-mod-clear b-line-mod-thin--mix-item\">Labor &amp; Moving, Doha</p>\n",
      "<a href=\"/services/labor-moving/suitable-price-moving-shifting-transportation-services-30107200\"><p class=\"b-card--el-description\">Suitable price moving shifting transportation services 33718326</p></a>\n",
      "<div class=\"b-card--el-flags\">\n",
      "<p class=\"b-card--el-pinhead-flag\"></p>\n",
      "</div>\n",
      "<div class=\"b-card--el-agency\">\n",
      "<a href=\"/user/mahamud1\"><img alt=\"\" class=\"b-card--el-agency-logo\" height=\"80\" src=\"https://files.qatarliving.com/styles/avatar_small/s3/users/2016/04/11/1460397308566.png?itok=LTcC9b30\" width=\"80\"/></a>\n",
      "<time class=\"timeago b-card--el-agency-time\" datetime=\"2018-10-14T12:51:22+0300\" title=\"2018-10-14T12:51:22+0300\"></time>\n",
      "<p class=\"b-card--el-agency-title\">by </p><a class=\"b-card--el-agency-title\" href=\"/user/mahamud1\">mahamud1</a>\n",
      "</div>\n",
      "</div> \n",
      "\n",
      "<div class=\"b-card--el-details\">\n",
      "<p class=\"b-ad-excerpt b-par-mod-clear b-line-mod-thin--mix-item\">Labor &amp; Moving, Doha</p>\n",
      "<a href=\"/services/labor-moving/best-price-moving-shifting-service-anytime-all-qatar-55660574\"><p class=\"b-card--el-description\">BEST PRICE MOVING AND SHIFTING SERVICE ANYTIME ALL OF QATAR 55660574</p></a>\n",
      "<div class=\"b-card--el-flags\">\n",
      "<p class=\"b-card--el-pinhead-flag\"></p>\n",
      "</div>\n",
      "<div class=\"b-card--el-agency\">\n",
      "<time class=\"timeago b-card--el-agency-time\" datetime=\"2018-10-14T12:50:35+0300\" title=\"2018-10-14T12:50:35+0300\"></time>\n",
      "<p class=\"b-card--el-agency-title\">by </p><a class=\"b-card--el-agency-title\" href=\"/user/skill-carpenter\">skill carpenter</a>\n",
      "</div>\n",
      "</div> \n",
      "\n",
      "<div class=\"b-card--el-details\">\n",
      "<p class=\"b-ad-excerpt b-par-mod-clear b-line-mod-thin--mix-item\">Labor &amp; Moving, Doha</p>\n",
      "<a href=\"/services/labor-moving/moving-packing-carpenter-pickup-service-call-30542567\"><p class=\"b-card--el-description\">Good price, call me 74402893 Moving, Shifting, Carpenter, A/C service</p></a>\n",
      "<div class=\"b-card--el-flags\">\n",
      "<p class=\"b-card--el-pinhead-flag\"></p>\n",
      "</div>\n",
      "<div class=\"b-card--el-agency\">\n",
      "<time class=\"timeago b-card--el-agency-time\" datetime=\"2018-10-14T12:46:20+0300\" title=\"2018-10-14T12:46:20+0300\"></time>\n",
      "<p class=\"b-card--el-agency-title\">by </p><a class=\"b-card--el-agency-title\" href=\"/user/zakir-movers\">Zakir movers</a>\n",
      "</div>\n",
      "</div> \n",
      "\n",
      "<div class=\"b-card--el-details\">\n",
      "<p class=\"b-ad-excerpt b-par-mod-clear b-line-mod-thin--mix-item\">Household Services, Doha</p>\n",
      "<a href=\"/services/household-services/electric-plumbing-painting-gypsum-partition-mason-servicecall-70526557\"><p class=\"b-card--el-description\">ELECTRIC PLUMBING PAINTING GYPSUM PARTITION MASON SERVICE.CALL 70526557.</p></a>\n",
      "<div class=\"b-card--el-flags\">\n",
      "<p class=\"b-card--el-pinhead-flag\"></p>\n",
      "</div>\n",
      "<div class=\"b-card--el-agency\">\n",
      "<a href=\"/user/plumber1qatar\"><img alt=\"\" class=\"b-card--el-agency-logo\" height=\"80\" src=\"https://files.qatarliving.com/styles/avatar_small/s3/users/2018/05/20/Metal-stud.jpg?XrLqhNOJ_HA9j9jig5Th3FfaYAsbHELv&amp;itok=hIbB9yED\" width=\"80\"/></a>\n",
      "<time class=\"timeago b-card--el-agency-time\" datetime=\"2018-10-14T12:46:03+0300\" title=\"2018-10-14T12:46:03+0300\"></time>\n",
      "<p class=\"b-card--el-agency-title\">by </p><a class=\"b-card--el-agency-title\" href=\"/user/plumber1qatar\">Plumber1qatar</a>\n",
      "</div>\n",
      "</div> \n",
      "\n",
      "<div class=\"b-card--el-details\">\n",
      "<p class=\"b-ad-excerpt b-par-mod-clear b-line-mod-thin--mix-item\">Labor &amp; Moving, Doha</p>\n",
      "<a href=\"/services/labor-moving/shifting-carpenter-packing-truck-pick-66971726\"><p class=\"b-card--el-description\">Shifting ,Carpenter, Packing ,,TRUCK &amp; PICK UP - - 66971726</p></a>\n",
      "<div class=\"b-card--el-flags\">\n",
      "<p class=\"b-card--el-pinhead-flag\"></p>\n",
      "</div>\n",
      "<div class=\"b-card--el-agency\">\n",
      "<time class=\"timeago b-card--el-agency-time\" datetime=\"2018-10-14T12:44:38+0300\" title=\"2018-10-14T12:44:38+0300\"></time>\n",
      "<p class=\"b-card--el-agency-title\">by </p><a class=\"b-card--el-agency-title\" href=\"/user/hakim-services\">Hakim Services</a>\n",
      "</div>\n",
      "</div> \n",
      "\n",
      "<div class=\"b-card--el-details\">\n",
      "<p class=\"b-ad-excerpt b-par-mod-clear b-line-mod-thin--mix-item\">Satellite Dish Installation, Al Hilal</p>\n",
      "<a href=\"/services/satellite-dish-installation/all-kinds-satellites-dish-receiver-sale-services-55513806\"><p class=\"b-card--el-description\">ALL KINDS OF SATELLITES DISH RECEIVER SALE SERVICES &amp; INSTALLATION 33083167</p></a>\n",
      "<div class=\"b-card--el-flags\">\n",
      "<p class=\"b-card--el-pinhead-flag\"></p>\n",
      "</div>\n",
      "<div class=\"b-card--el-agency\">\n",
      "<a href=\"/user/emran-electronics\"><img alt=\"\" class=\"b-card--el-agency-logo\" height=\"80\" src=\"https://files.qatarliving.com/styles/avatar_small/s3/users/2017/01/22/1485087513160.png?itok=ayQVYWN8\" width=\"80\"/></a>\n",
      "<time class=\"timeago b-card--el-agency-time\" datetime=\"2018-10-14T12:44:26+0300\" title=\"2018-10-14T12:44:26+0300\"></time>\n",
      "<p class=\"b-card--el-agency-title\">by </p><a class=\"b-card--el-agency-title\" href=\"/user/emran-electronics\">Emran electronics</a>\n",
      "</div>\n",
      "</div> \n",
      "\n",
      "<div class=\"b-card--el-details\">\n",
      "<p class=\"b-ad-excerpt b-par-mod-clear b-line-mod-thin--mix-item\">Labor &amp; Moving, Doha</p>\n",
      "<a href=\"/services/labor-moving/moving-shifting-carpenter-painting-wallpaper-caution-fixing-66436558-0\"><p class=\"b-card--el-description\">66436558 Moving shifting carpenter painting wallpaper caution fixing</p></a>\n",
      "<div class=\"b-card--el-flags\">\n",
      "<p class=\"b-card--el-pinhead-flag\"></p>\n",
      "</div>\n",
      "<div class=\"b-card--el-agency\">\n",
      "<time class=\"timeago b-card--el-agency-time\" datetime=\"2018-10-14T12:43:39+0300\" title=\"2018-10-14T12:43:39+0300\"></time>\n",
      "<p class=\"b-card--el-agency-title\">by </p><a class=\"b-card--el-agency-title\" href=\"/user/rasedul-sohel-movers\">Rasedul sohel movers</a>\n",
      "</div>\n",
      "</div> \n",
      "\n",
      "<div class=\"b-card--el-details\">\n",
      "<p class=\"b-ad-excerpt b-par-mod-clear b-line-mod-thin--mix-item\">Labor &amp; Moving, Doha</p>\n",
      "<a href=\"/services/labor-moving/shamimm-mover/42674211\"><p class=\"b-card--el-description\">Good price, Call me 74420289... Moving, shifting, carpenter, A/C service </p></a>\n",
      "<div class=\"b-card--el-flags\">\n",
      "<p class=\"b-card--el-pinhead-flag\"></p>\n",
      "</div>\n",
      "<div class=\"b-card--el-agency\">\n",
      "<time class=\"timeago b-card--el-agency-time\" datetime=\"2018-10-14T12:42:39+0300\" title=\"2018-10-14T12:42:39+0300\"></time>\n",
      "<p class=\"b-card--el-agency-title\">by </p><a class=\"b-card--el-agency-title\" href=\"/user/shamimm-movers\">Shamimm Movers</a>\n",
      "</div>\n",
      "</div> \n",
      "\n",
      "<div class=\"b-card--el-details\">\n",
      "<p class=\"b-ad-excerpt b-par-mod-clear b-line-mod-thin--mix-item\">Labor &amp; Moving, Doha</p>\n",
      "<a href=\"/services/labor-moving/best-price-moving-shifting-packing-good-carpentry-work-house-villa-office-0\"><p class=\"b-card--el-description\">Best price Moving Shifting Packing &amp; good Carpentry Work house villa office call,.50184401</p></a>\n",
      "<div class=\"b-card--el-flags\">\n",
      "<p class=\"b-card--el-pinhead-flag\"></p>\n",
      "</div>\n",
      "<div class=\"b-card--el-agency\">\n",
      "<time class=\"timeago b-card--el-agency-time\" datetime=\"2018-10-14T12:42:03+0300\" title=\"2018-10-14T12:42:03+0300\"></time>\n",
      "<p class=\"b-card--el-agency-title\">by </p><a class=\"b-card--el-agency-title\" href=\"/user/mohsin-qatar-movers\">Mohsin Qatar Movers</a>\n",
      "</div>\n",
      "</div> \n",
      "\n",
      "<div class=\"b-card--el-details\">\n",
      "<p class=\"b-ad-excerpt b-par-mod-clear b-line-mod-thin--mix-item\">Labor &amp; Moving, Doha</p>\n",
      "<a href=\"/services/labor-moving/best-price-movingshiftingcarepentarymaintanence-call-55218748/42609196\"><p class=\"b-card--el-description\">Best Price Moving,Shifting,carepentary,Maintanence Call. 55218748</p></a>\n",
      "<div class=\"b-card--el-flags\">\n",
      "<p class=\"b-card--el-pinhead-flag\"></p>\n",
      "</div>\n",
      "<div class=\"b-card--el-agency\">\n",
      "<a href=\"/user/nayem-movers\"><img alt=\"\" class=\"b-card--el-agency-logo\" height=\"80\" src=\"https://files.qatarliving.com/styles/avatar_small/s3/users/2018/09/21/1537491400060.png?OxPUTL65Dr53vMgoMAtmYONY595iLXaJ&amp;itok=APeGZO51\" width=\"80\"/></a>\n",
      "<time class=\"timeago b-card--el-agency-time\" datetime=\"2018-10-14T12:39:29+0300\" title=\"2018-10-14T12:39:29+0300\"></time>\n",
      "<p class=\"b-card--el-agency-title\">by </p><a class=\"b-card--el-agency-title\" href=\"/user/nayem-movers\">Nayem movers</a>\n",
      "</div>\n",
      "</div> \n",
      "\n"
     ]
    }
   ],
   "source": [
    "cards = soup.find_all(class_='b-card b-card-mod-h item card-sticky')\n",
    "print(len(cards))\n",
    "for card in cards:\n",
    "    detail = list(card)[3]\n",
    "    "
   ]
  },
  {
   "cell_type": "code",
   "execution_count": 90,
   "metadata": {},
   "outputs": [
    {
     "name": "stdout",
     "output_type": "stream",
     "text": [
      "We do less price:: house shifting, moving, carpenter picku & transport services—-5528757\n"
     ]
    }
   ],
   "source": [
    "cards = soup.find_all(class_='b-card b-card-mod-h item card-sticky')\n",
    "card = cards[0]\n",
    "detail = list(card)[3]\n",
    "link = list(detail)[3]\n",
    "description = list(link)[0]\n",
    "print(description.get_text())"
   ]
  }
 ],
 "metadata": {
  "kernelspec": {
   "display_name": "Python 3",
   "language": "python",
   "name": "python3"
  },
  "language_info": {
   "codemirror_mode": {
    "name": "ipython",
    "version": 3
   },
   "file_extension": ".py",
   "mimetype": "text/x-python",
   "name": "python",
   "nbconvert_exporter": "python",
   "pygments_lexer": "ipython3",
   "version": "3.6.6"
  }
 },
 "nbformat": 4,
 "nbformat_minor": 2
}
